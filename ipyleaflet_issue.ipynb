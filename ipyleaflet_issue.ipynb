{
 "cells": [
  {
   "cell_type": "code",
   "execution_count": 1,
   "metadata": {},
   "outputs": [],
   "source": [
    "# General python libraries\n",
    "import json\n",
    "import matplotlib.pyplot as plt\n",
    "%matplotlib inline\n",
    "import numpy as np\n",
    "import pandas as pd\n",
    "import pickle\n",
    "import re\n",
    "\n",
    "# Geo mapping libraries\n",
    "from branca.colormap import linear\n",
    "import geopandas as gpd\n",
    "from shapely.geometry import Point, Polygon\n",
    "from ipyleaflet import Map, GeoData, basemaps, LayersControl, Choropleth\n",
    "from ipyleaflet import WidgetControl, GeoJSON \n",
    "from ipywidgets import Text, HTML\n",
    "import geopandas\n",
    "\n",
    "# Statistics and regression libraries\n",
    "from scipy.stats import zscore\n",
    "from sklearn.preprocessing import scale\n",
    "from sklearn.metrics import mean_squared_error\n",
    "from sklearn.model_selection import cross_val_score\n",
    "from sklearn.linear_model import LinearRegression\n",
    "import statsmodels.stats.api as sms\n",
    "import statsmodels.api as sm"
   ]
  },
  {
   "cell_type": "code",
   "execution_count": 4,
   "metadata": {},
   "outputs": [],
   "source": [
    "df = pd.read_csv('kc_house_data.csv')\n",
    "\n",
    "# Missing values\n",
    "df.view.fillna(0, inplace=True)\n",
    "df.yr_renovated.fillna(0, inplace=True)\n",
    "df.waterfront.fillna(0, inplace=True)\n",
    "sqft_basement_mean = df.sqft_basement.loc[df.sqft_basement != '?'].astype('float').mean()\n",
    "df.sqft_basement.replace('?', sqft_basement_mean, inplace=True)\n",
    "\n",
    "# Incorrect dtypes\n",
    "df.date = pd.to_datetime(df.date)\n",
    "df.price = df.price.astype('int64')\n",
    "df.waterfront = df.waterfront.astype('int64')\n",
    "df.sqft_basement = df.sqft_basement.astype('float').astype('int64')\n",
    "df.view.astype('int64')\n",
    "\n",
    "# Convert to binary column\n",
    "df['has_basement'] = df.sqft_basement.map(lambda x: 1 if x > 0 else 0)\n",
    "df['renovated'] = df.yr_renovated.map(lambda x: 1 if x > 0 else 0)\n",
    "\n",
    "# Drop unused or already transformed columns\n",
    "df.drop(['id', 'date', 'sqft_basement', 'yr_renovated'], axis=1, inplace=True);\n",
    "\n",
    "outlier_cols = [\n",
    "    'bedrooms',\n",
    "    'bathrooms',\n",
    "    'sqft_living',\n",
    "    'sqft_lot',\n",
    "    'sqft_above',\n",
    "    'sqft_living15',\n",
    "    'sqft_lot15'\n",
    "]\n",
    "\n",
    "for col in outlier_cols:\n",
    "    df.drop(df.loc[zscore(df[col]) > 3].index, axis=0, inplace=True)\n",
    "    \n",
    "map_df = df"
   ]
  },
  {
   "cell_type": "code",
   "execution_count": 5,
   "metadata": {},
   "outputs": [],
   "source": [
    "# Create my own geodataframe using lats/longs to create the cells, need id\n",
    "def create_geobins(df_lat_ser, df_long_ser, n_lats, n_longs):\n",
    "    polygons = []\n",
    "    max_lat = df_lat_ser.max()\n",
    "    min_lat = df_lat_ser.min()\n",
    "    max_long = df_long_ser.max()\n",
    "    min_long = df_long_ser.min()\n",
    "    lat_step = abs((max_lat - min_lat)) / n_lats\n",
    "    long_step = abs((max_long - min_long)) / n_longs\n",
    "    for this_lat in np.arange(min_lat, max_lat, lat_step):\n",
    "        for this_long in np.arange(min_long, max_long, long_step):\n",
    "            polygons.append(Polygon([(this_lat, this_long),\n",
    "                                     (this_lat + lat_step, this_long),\n",
    "                                     (this_lat + lat_step, this_long + long_step),\n",
    "                                     (this_lat, this_long + long_step),\n",
    "                                     (this_lat, this_long)\n",
    "                                     ]\n",
    "                                    )\n",
    "                            )\n",
    "    return gpd.GeoDataFrame(polygons, columns=['geometry'])\n",
    "\n",
    "geobins = create_geobins(map_df.lat, map_df.long, 10, 6)"
   ]
  },
  {
   "cell_type": "code",
   "execution_count": 6,
   "metadata": {},
   "outputs": [
    {
     "data": {
      "application/vnd.jupyter.widget-view+json": {
       "model_id": "2c1487e1e87947beb58c1211d0d086a0",
       "version_major": 2,
       "version_minor": 0
      },
      "text/plain": [
       "Map(center=[47.5391, -122.07], controls=(ZoomControl(options=['position', 'zoom_in_text', 'zoom_in_title', 'zo…"
      ]
     },
     "metadata": {},
     "output_type": "display_data"
    }
   ],
   "source": [
    "# Create basemap, add layer\n",
    "geobins_layer = GeoData(geo_dataframe=geobins)\n",
    "m = Map(center=(47.5391,-122.070), zoom=9)\n",
    "m.add_layer(geobins_layer)\n",
    "m.add_control(LayersControl())\n",
    "m"
   ]
  },
  {
   "cell_type": "code",
   "execution_count": null,
   "metadata": {},
   "outputs": [],
   "source": []
  }
 ],
 "metadata": {
  "kernelspec": {
   "display_name": "Python [conda env:learn-env] *",
   "language": "python",
   "name": "conda-env-learn-env-py"
  },
  "language_info": {
   "codemirror_mode": {
    "name": "ipython",
    "version": 3
   },
   "file_extension": ".py",
   "mimetype": "text/x-python",
   "name": "python",
   "nbconvert_exporter": "python",
   "pygments_lexer": "ipython3",
   "version": "3.6.9"
  },
  "toc": {
   "base_numbering": 1,
   "nav_menu": {},
   "number_sections": true,
   "sideBar": true,
   "skip_h1_title": false,
   "title_cell": "Table of Contents",
   "title_sidebar": "Contents",
   "toc_cell": false,
   "toc_position": {},
   "toc_section_display": true,
   "toc_window_display": false
  }
 },
 "nbformat": 4,
 "nbformat_minor": 2
}
